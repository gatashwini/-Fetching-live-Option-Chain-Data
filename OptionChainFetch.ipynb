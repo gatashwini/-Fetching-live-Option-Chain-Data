{
 "cells": [
  {
   "cell_type": "code",
   "execution_count": 4,
   "id": "fcc452e7",
   "metadata": {},
   "outputs": [],
   "source": [
    "import requests\n",
    "import pandas as pd\n",
    "import xlwings as xw\n",
    "import time\n",
    "url='https://www.nseindia.com/api/option-chain-indices?symbol=NIFTY'\n",
    "headers={\n",
    "    'accept-encoding': 'gzip, deflate, br',\n",
    "    'accept-language': 'en-US,en;q=0.9',\n",
    "    'user-agent':'Mozilla/5.0 (Windows NT 10.0; Win64; x64) AppleWebKit/537.36 (KHTML, like Gecko) Chrome/109.0.0.0 Safari/537.36'\n",
    "    \n",
    "    \n",
    "    \n",
    "}\n",
    "\n",
    "session=requests.Session()\n",
    "data=session.get(url,headers=headers).json()['records']['data']\n",
    "#print(data)\n",
    "ocdata=[]\n",
    "for i in data:\n",
    "    for j ,k in i.items():\n",
    "        if j=='CE'or j=='PE':\n",
    "            info=k\n",
    "            info[\"instrumentType\"]=j\n",
    "            ocdata.append(info)\n",
    "#print(ocdata)\n",
    "\n",
    "df=pd.DataFrame(ocdata)\n",
    "wb=xw.Book('OptionChainTracker.xlsx')\n",
    "st=wb.sheets('NIFTY')\n",
    "st.range('A1').value=df\n",
    "time.sleep(60)\n",
    "#print(df)\n"
   ]
  },
  {
   "cell_type": "code",
   "execution_count": null,
   "id": "272b988d",
   "metadata": {},
   "outputs": [],
   "source": []
  }
 ],
 "metadata": {
  "kernelspec": {
   "display_name": "Python 3 (ipykernel)",
   "language": "python",
   "name": "python3"
  },
  "language_info": {
   "codemirror_mode": {
    "name": "ipython",
    "version": 3
   },
   "file_extension": ".py",
   "mimetype": "text/x-python",
   "name": "python",
   "nbconvert_exporter": "python",
   "pygments_lexer": "ipython3",
   "version": "3.9.13"
  }
 },
 "nbformat": 4,
 "nbformat_minor": 5
}
